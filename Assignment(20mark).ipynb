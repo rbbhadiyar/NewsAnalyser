{
 "cells": [
  {
   "cell_type": "markdown",
   "metadata": {},
   "source": [
    "# Data Extraction"
   ]
  },
  {
   "cell_type": "code",
   "execution_count": 154,
   "metadata": {},
   "outputs": [],
   "source": [
    "from urllib import request"
   ]
  },
  {
   "cell_type": "code",
   "execution_count": 155,
   "metadata": {},
   "outputs": [],
   "source": [
    "url = \"https://www.hindustantimes.com/world-news/complaints-over-separatist-views-of-new-british-sikh-bbc-presenter-101709995421441.html\"\n",
    "html = request.urlopen(url).read().decode('utf8') #fetches HTML content of website\"\n"
   ]
  },
  {
   "cell_type": "code",
   "execution_count": 156,
   "metadata": {},
   "outputs": [],
   "source": [
    "from bs4 import BeautifulSoup\n",
    "project = BeautifulSoup(html,'html.parser')"
   ]
  },
  {
   "cell_type": "code",
   "execution_count": 157,
   "metadata": {},
   "outputs": [
    {
     "data": {
      "text/plain": [
       "[<h1 class=\"hdg1\">Complaints over separatist views of new British Sikh BBC presenter</h1>]"
      ]
     },
     "execution_count": 157,
     "metadata": {},
     "output_type": "execute_result"
    }
   ],
   "source": [
    "#Heading of Article\n",
    "heading = []\n",
    "head = project.find_all('h1')\n",
    "heading.append(head)\n",
    "head"
   ]
  },
  {
   "cell_type": "code",
   "execution_count": 158,
   "metadata": {},
   "outputs": [],
   "source": [
    "#Subheading of Article\n",
    " \n",
    "s_head1 = project.find_all('h2')\n",
    "s_head2 = project.find_all('h3')\n",
    "s_head3 = project.find_all('h4')\n",
    "s_head4 = project.find_all('h5')\n",
    "s_head5 = project.find_all('h6')\n",
    "\n",
    "\n"
   ]
  },
  {
   "cell_type": "code",
   "execution_count": 159,
   "metadata": {},
   "outputs": [
    {
     "data": {
      "text/plain": [
       "[<h2 class=\"sortDec\">Jaspreet Kaur, a writer and teacher, began hosting ‘Asian Network Chill’ weekly at the British Broadcasting Corporation earlier this month.</h2>,\n",
       " <h2>Also Read | <a class=\"manualbacklink\" href=\"https://www.hindustantimes.com/india-news/expect-foreign-authorities-to-act-against-khalistani-activists-jaishankar-101708966797799.html\" target=\"_blank\">Expect foreign authorities to act against Khalistani activists: Jaishankar</a></h2>,\n",
       " <h2 class=\"secHdg\">Best Deals</h2>,\n",
       " <h2>Create free account and unlock exciting features like</h2>]"
      ]
     },
     "execution_count": 159,
     "metadata": {},
     "output_type": "execute_result"
    }
   ],
   "source": [
    "s_head1"
   ]
  },
  {
   "cell_type": "code",
   "execution_count": 160,
   "metadata": {},
   "outputs": [
    {
     "data": {
      "text/plain": [
       "[<h3 class=\"hdg3\"><a href=\"/technology/best-washing-machine-10-best-options-to-check-out-in-2023-101694411128863.html\" onclick=\"dataLayer.push({'event': 'article_click','page_type': pageTYPE,'section':'trending','subsection':sectionTracking,'article_title':'Best washing machine: 10 best options to check out in November 2023','published_date':new Date('2023-11-22T15:11:09+0000').toLocaleString(),'article_category':'technology','article_id':'101694411128863','logged_in_status':(getCookie('ht_token') ? 'logged_in':'non_logged_in'),'user_ID':(getCookie('ht_token') ? getCookie('_ht_clientid'):'NA')});\">Best washing machine: 10 best options to check out in November 2023</a></h3>,\n",
       " <h3 class=\"hdg3\"><a href=\"/technology/heater-price-check-out-top-10-options-with-details-on-how-much-they-cost-101702015989758.html\" onclick=\"dataLayer.push({'event': 'article_click','page_type': pageTYPE,'section':'trending','subsection':sectionTracking,'article_title':'Heater price: Check out top 10 options with details on how much they cost','published_date':new Date('2023-12-08T10:10:43+0000').toLocaleString(),'article_category':'technology','article_id':'101702015989758','logged_in_status':(getCookie('ht_token') ? 'logged_in':'non_logged_in'),'user_ID':(getCookie('ht_token') ? getCookie('_ht_clientid'):'NA')});\">Heater price: Check out top 10 options with details on how much they cost</a></h3>,\n",
       " <h3 class=\"hdg3\"><a href=\"/technology/best-geysers-under-rs-20000-top-10-picks-to-maximize-your-comfort-101700819669005.html\" onclick=\"dataLayer.push({'event': 'article_click','page_type': pageTYPE,'section':'trending','subsection':sectionTracking,'article_title':'Best geysers under &lt;span class=webrupee&gt;₹&lt;/span&gt;20000: Top 10 picks to maximize your comfort','published_date':new Date('2023-12-01T11:11:24+0000').toLocaleString(),'article_category':'technology','article_id':'101700819669005','logged_in_status':(getCookie('ht_token') ? 'logged_in':'non_logged_in'),'user_ID':(getCookie('ht_token') ? getCookie('_ht_clientid'):'NA')});\">Best geysers under <span class=\"webrupee\">₹</span>20000: Top 10 picks to maximize your comfort</a></h3>,\n",
       " <h3 class=\"hdg3\"><a href=\"/technology/havells-versus-competitors-choose-from-top-9-oil-filled-radiators-for-your-home-101702019516895.html\" onclick=\"dataLayer.push({'event': 'article_click','page_type': pageTYPE,'section':'trending','subsection':sectionTracking,'article_title':'Havells versus competitors: Choose from top 9 oil-filled radiators for your home','published_date':new Date('2023-12-08T10:48:30+0000').toLocaleString(),'article_category':'technology','article_id':'101702019516895','logged_in_status':(getCookie('ht_token') ? 'logged_in':'non_logged_in'),'user_ID':(getCookie('ht_token') ? getCookie('_ht_clientid'):'NA')});\">Havells versus competitors: Choose from top 9 oil-filled radiators for your home</a></h3>,\n",
       " <h3 class=\"hdg3\"><a href=\"/technology/best-air-purifiers-under-20000-top-10-purifiers-delivering-clean-air-in-budget-101706177922887.html\" onclick=\"dataLayer.push({'event': 'article_click','page_type': pageTYPE,'section':'trending','subsection':sectionTracking,'article_title':'Best air purifiers under 20000: Top 10 purifiers delivering clean air in budget','published_date':new Date('2024-01-25T12:54:12+0000').toLocaleString(),'article_category':'technology','article_id':'101706177922887','logged_in_status':(getCookie('ht_token') ? 'logged_in':'non_logged_in'),'user_ID':(getCookie('ht_token') ? getCookie('_ht_clientid'):'NA')});\">Best air purifiers under 20000: Top 10 purifiers delivering clean air in budget</a></h3>,\n",
       " <h3>Join Hindustan Times</h3>]"
      ]
     },
     "execution_count": 160,
     "metadata": {},
     "output_type": "execute_result"
    }
   ],
   "source": [
    "s_head2"
   ]
  },
  {
   "cell_type": "code",
   "execution_count": 161,
   "metadata": {},
   "outputs": [
    {
     "data": {
      "text/plain": [
       "[]"
      ]
     },
     "execution_count": 161,
     "metadata": {},
     "output_type": "execute_result"
    }
   ],
   "source": [
    "s_head3"
   ]
  },
  {
   "cell_type": "code",
   "execution_count": 162,
   "metadata": {},
   "outputs": [
    {
     "data": {
      "text/plain": [
       "[]"
      ]
     },
     "execution_count": 162,
     "metadata": {},
     "output_type": "execute_result"
    }
   ],
   "source": [
    "s_head4"
   ]
  },
  {
   "cell_type": "code",
   "execution_count": 163,
   "metadata": {},
   "outputs": [
    {
     "data": {
      "text/plain": [
       "[]"
      ]
     },
     "execution_count": 163,
     "metadata": {},
     "output_type": "execute_result"
    }
   ],
   "source": [
    "s_head5"
   ]
  },
  {
   "cell_type": "code",
   "execution_count": null,
   "metadata": {},
   "outputs": [],
   "source": []
  },
  {
   "cell_type": "code",
   "execution_count": 164,
   "metadata": {},
   "outputs": [
    {
     "data": {
      "text/plain": [
       "['Subscribe Now! Get features like',\n",
       " 'Several members of the Indian diaspora have expressed concern and complained to the BBC over the alleged “pro-Khalistan separatist views” of a new British Sikh presenter who recently joined its Asian Network lineup.',\n",
       " 'Jaspreet Kaur, a writer and teacher, began hosting ‘Asian Network Chill’ weekly at the British Broadcasting Corporation earlier this month.',\n",
       " '“Taking time to chill, whatever that might mean for you, is so important,” Kaur said in a statement on social media, announcing her new role at the public broadcaster.',\n",
       " ' ',\n",
       " '“As an author, poet, teacher and new mum, I know how hard it can be to slow down. But hopefully if you catch my new Chill Show, you’ll feel inspired to step back, slow down, be present and more mindful. I’ll be exploring interesting new ways to look after our wellbeing whilst listening to the best soothing tunes,” she said.',\n",
       " 'Soon after, some of her social media posts dating back a few years began circulating among Indian diaspora networks, expressing concerns over her separatist views and triggering complaints to the British taxpayer-funded licence fee-operated organisation.',\n",
       " '“I must bring to your attention the fact that your organisation is hiring extremists as ‘presenter’,” reads one such complaint addressed to the BBC’s new Indian-origin chair Samir Shah.',\n",
       " '“Jaspreet is well known in the Sikh community as being a Khalistani – a far-right position within the Sikh community. For example, in her Twitter post she openly hashtags ‘Khalistan’,” it states.',\n",
       " '“I’m shocked that the BBC would hire somebody who holds such extremist views,” notes one complaint, calling for an investigation.',\n",
       " 'The BBC indicated that while all its presenters are subject to guidance on sharing personal views publicly, the social media post being referenced to in the complaints, dates back many years before Kaur became a presenter on the show.',\n",
       " '“We aren’t going to comment on individuals or indeed individual tweets. We do investigate any complaints made and discuss issues that arise with presenters as necessary,” said a BBC spokesperson.',\n",
       " 'Last year, the BBC had undertaken a review of its social media guidelines after a row over football pundit Gary Lineker’s social media posts attacking the government’s immigration policies.',\n",
       " 'Its new guidance states: “The overriding principle of this guidance is that anyone working for the BBC is a representative of the organisation, both offline and also when online, including on social media.',\n",
       " '“While the requirements for impartiality may differ, everyone working for the BBC has the same responsibility to respect high standards of civility in public discourse and to not bring the BBC into disrepute.”',\n",
       " '',\n",
       " '',\n",
       " '']"
      ]
     },
     "execution_count": 164,
     "metadata": {},
     "output_type": "execute_result"
    }
   ],
   "source": [
    "#Storing paragraph\n",
    "import re\n",
    "para =[]\n",
    "paragraph= project.find_all('p')\n",
    "for p in paragraph:\n",
    "            clean_text = re.sub(r'<.*?>', '', str(p))\n",
    "            para.append(clean_text)\n",
    "\n",
    "\n",
    "para.pop(0)\n",
    "para"
   ]
  },
  {
   "cell_type": "code",
   "execution_count": null,
   "metadata": {},
   "outputs": [],
   "source": []
  },
  {
   "cell_type": "code",
   "execution_count": 165,
   "metadata": {},
   "outputs": [],
   "source": [
    "from urllib.parse import urlparse\n",
    "link_list = []\n",
    "for links in project.find_all('a'):\n",
    "    href = links.get('href')\n",
    "    # Checking for valid links/href\n",
    "    if href and urlparse(href).scheme:\n",
    "        link_list.append(href)\n"
   ]
  },
  {
   "cell_type": "code",
   "execution_count": null,
   "metadata": {},
   "outputs": [],
   "source": []
  },
  {
   "cell_type": "code",
   "execution_count": 166,
   "metadata": {},
   "outputs": [],
   "source": [
    "from flask import Flask, render_template, request\n",
    "import psycopg2\n",
    "import nltk\n",
    "import json\n",
    "from nltk import word_tokenize\n",
    "from nltk import sent_tokenize\n",
    "import requests\n",
    "from bs4 import BeautifulSoup\n",
    "from urllib.parse import urlparse\n",
    "import re\n",
    "from nltk.corpus import stopwords"
   ]
  },
  {
   "cell_type": "code",
   "execution_count": 167,
   "metadata": {},
   "outputs": [
    {
     "ename": "TypeError",
     "evalue": "not all arguments converted during string formatting",
     "output_type": "error",
     "traceback": [
      "\u001b[1;31m---------------------------------------------------------------------------\u001b[0m",
      "\u001b[1;31mTypeError\u001b[0m                                 Traceback (most recent call last)",
      "Cell \u001b[1;32mIn[167], line 9\u001b[0m\n\u001b[0;32m      2\u001b[0m cur \u001b[38;5;241m=\u001b[39m conn\u001b[38;5;241m.\u001b[39mcursor()\n\u001b[0;32m      3\u001b[0m cur\u001b[38;5;241m.\u001b[39mexecute(\n\u001b[0;32m      4\u001b[0m \u001b[38;5;250m            \u001b[39m\u001b[38;5;124;03m'''CREATE TABLE IF NOT EXISTS Data \\\u001b[39;00m\n\u001b[0;32m      5\u001b[0m \u001b[38;5;124;03m                (Words INT,\u001b[39;00m\n\u001b[0;32m      6\u001b[0m \u001b[38;5;124;03m                Sentences INT,\u001b[39;00m\n\u001b[0;32m      7\u001b[0m \u001b[38;5;124;03m                POS_Tags Varchar,\u001b[39;00m\n\u001b[0;32m      8\u001b[0m \u001b[38;5;124;03m                Paragraphs Varchar);'''\u001b[39;00m)\n\u001b[1;32m----> 9\u001b[0m \u001b[43mcur\u001b[49m\u001b[38;5;241;43m.\u001b[39;49m\u001b[43mexecute\u001b[49m\u001b[43m(\u001b[49m\n\u001b[0;32m     10\u001b[0m \u001b[38;5;250;43m    \u001b[39;49m\u001b[38;5;124;43;03m'''INSERT INTO Data (Paragraphs) \\\u001b[39;49;00m\n\u001b[0;32m     11\u001b[0m \u001b[38;5;124;43;03m        VALUES (%s);'''\u001b[39;49;00m\u001b[43m,\u001b[49m\n\u001b[0;32m     12\u001b[0m \u001b[43m        \u001b[49m\u001b[43m(\u001b[49m\u001b[43mpara\u001b[49m\u001b[43m)\u001b[49m\u001b[43m)\u001b[49m\n",
      "\u001b[1;31mTypeError\u001b[0m: not all arguments converted during string formatting"
     ]
    }
   ],
   "source": [
    "conn = psycopg2.connect(database=\"dhp2024\",user = 'postgres', password ='Ram@0916', host='localhost')\n",
    "cur = conn.cursor()\n",
    "cur.execute(\n",
    "            '''CREATE TABLE IF NOT EXISTS Data \\\n",
    "                (Words INT,\n",
    "                Sentences INT,\n",
    "                POS_Tags Varchar,\n",
    "                Paragraphs Varchar);''')\n",
    "cur.execute(\n",
    "    '''INSERT INTO Data (Paragraphs) \\\n",
    "        VALUES (%s);''',\n",
    "        (para))\n"
   ]
  },
  {
   "cell_type": "code",
   "execution_count": null,
   "metadata": {},
   "outputs": [],
   "source": [
    "import requests\n",
    "\n",
    "headers = {'User-Agent': 'Mozilla/5.0 (Windows NT 10.0; Win64; x64) AppleWebKit/537.36 (KHTML, like Gecko) Chrome/115.0.0.0 Safari/537.36'}\n",
    "\n",
    "page = requests.get(\"https://example.com/\", headers=headers)\n"
   ]
  },
  {
   "cell_type": "code",
   "execution_count": null,
   "metadata": {},
   "outputs": [
    {
     "ename": "MissingSchema",
     "evalue": "Invalid URL '': No scheme supplied. Perhaps you meant https://?",
     "output_type": "error",
     "traceback": [
      "\u001b[1;31m---------------------------------------------------------------------------\u001b[0m",
      "\u001b[1;31mMissingSchema\u001b[0m                             Traceback (most recent call last)",
      "Cell \u001b[1;32mIn[20], line 69\u001b[0m\n\u001b[0;32m     66\u001b[0m     \u001b[38;5;28mprint\u001b[39m(heading)\n\u001b[0;32m     67\u001b[0m     \u001b[38;5;28;01mreturn\u001b[39;00m word,sent\n\u001b[1;32m---> 69\u001b[0m \u001b[43mwords\u001b[49m\u001b[43m(\u001b[49m\u001b[43m)\u001b[49m\n",
      "Cell \u001b[1;32mIn[20], line 4\u001b[0m, in \u001b[0;36mwords\u001b[1;34m()\u001b[0m\n\u001b[0;32m      1\u001b[0m \u001b[38;5;28;01mdef\u001b[39;00m \u001b[38;5;21mwords\u001b[39m():\n\u001b[0;32m      2\u001b[0m     headers \u001b[38;5;241m=\u001b[39m {\u001b[38;5;124m'\u001b[39m\u001b[38;5;124mUser-Agent\u001b[39m\u001b[38;5;124m'\u001b[39m: \u001b[38;5;124m'\u001b[39m\u001b[38;5;124mMozilla/5.0 (Windows NT 10.0; Win64; x64) AppleWebKit/537.36 (KHTML, like Gecko) Chrome/115.0.0.0 Safari/537.36\u001b[39m\u001b[38;5;124m'\u001b[39m}\n\u001b[1;32m----> 4\u001b[0m     page \u001b[38;5;241m=\u001b[39m \u001b[43mrequests\u001b[49m\u001b[38;5;241;43m.\u001b[39;49m\u001b[43mget\u001b[49m\u001b[43m(\u001b[49m\u001b[38;5;124;43m\"\u001b[39;49m\u001b[38;5;124;43m\"\u001b[39;49m\u001b[43m,\u001b[49m\u001b[43m \u001b[49m\u001b[43mheaders\u001b[49m\u001b[38;5;241;43m=\u001b[39;49m\u001b[43mheaders\u001b[49m\u001b[43m)\u001b[49m\n\u001b[0;32m      5\u001b[0m     project \u001b[38;5;241m=\u001b[39m BeautifulSoup(page\u001b[38;5;241m.\u001b[39mcontent,\u001b[38;5;124m'\u001b[39m\u001b[38;5;124mhtml.parser\u001b[39m\u001b[38;5;124m'\u001b[39m)\n\u001b[0;32m      7\u001b[0m     \u001b[38;5;66;03m#Heading of Article\u001b[39;00m\n",
      "File \u001b[1;32m~\\AppData\\Local\\Packages\\PythonSoftwareFoundation.Python.3.11_qbz5n2kfra8p0\\LocalCache\\local-packages\\Python311\\site-packages\\requests\\api.py:73\u001b[0m, in \u001b[0;36mget\u001b[1;34m(url, params, **kwargs)\u001b[0m\n\u001b[0;32m     62\u001b[0m \u001b[38;5;28;01mdef\u001b[39;00m \u001b[38;5;21mget\u001b[39m(url, params\u001b[38;5;241m=\u001b[39m\u001b[38;5;28;01mNone\u001b[39;00m, \u001b[38;5;241m*\u001b[39m\u001b[38;5;241m*\u001b[39mkwargs):\n\u001b[0;32m     63\u001b[0m \u001b[38;5;250m    \u001b[39m\u001b[38;5;124mr\u001b[39m\u001b[38;5;124;03m\"\"\"Sends a GET request.\u001b[39;00m\n\u001b[0;32m     64\u001b[0m \n\u001b[0;32m     65\u001b[0m \u001b[38;5;124;03m    :param url: URL for the new :class:`Request` object.\u001b[39;00m\n\u001b[1;32m   (...)\u001b[0m\n\u001b[0;32m     70\u001b[0m \u001b[38;5;124;03m    :rtype: requests.Response\u001b[39;00m\n\u001b[0;32m     71\u001b[0m \u001b[38;5;124;03m    \"\"\"\u001b[39;00m\n\u001b[1;32m---> 73\u001b[0m     \u001b[38;5;28;01mreturn\u001b[39;00m \u001b[43mrequest\u001b[49m\u001b[43m(\u001b[49m\u001b[38;5;124;43m\"\u001b[39;49m\u001b[38;5;124;43mget\u001b[39;49m\u001b[38;5;124;43m\"\u001b[39;49m\u001b[43m,\u001b[49m\u001b[43m \u001b[49m\u001b[43murl\u001b[49m\u001b[43m,\u001b[49m\u001b[43m \u001b[49m\u001b[43mparams\u001b[49m\u001b[38;5;241;43m=\u001b[39;49m\u001b[43mparams\u001b[49m\u001b[43m,\u001b[49m\u001b[43m \u001b[49m\u001b[38;5;241;43m*\u001b[39;49m\u001b[38;5;241;43m*\u001b[39;49m\u001b[43mkwargs\u001b[49m\u001b[43m)\u001b[49m\n",
      "File \u001b[1;32m~\\AppData\\Local\\Packages\\PythonSoftwareFoundation.Python.3.11_qbz5n2kfra8p0\\LocalCache\\local-packages\\Python311\\site-packages\\requests\\api.py:59\u001b[0m, in \u001b[0;36mrequest\u001b[1;34m(method, url, **kwargs)\u001b[0m\n\u001b[0;32m     55\u001b[0m \u001b[38;5;66;03m# By using the 'with' statement we are sure the session is closed, thus we\u001b[39;00m\n\u001b[0;32m     56\u001b[0m \u001b[38;5;66;03m# avoid leaving sockets open which can trigger a ResourceWarning in some\u001b[39;00m\n\u001b[0;32m     57\u001b[0m \u001b[38;5;66;03m# cases, and look like a memory leak in others.\u001b[39;00m\n\u001b[0;32m     58\u001b[0m \u001b[38;5;28;01mwith\u001b[39;00m sessions\u001b[38;5;241m.\u001b[39mSession() \u001b[38;5;28;01mas\u001b[39;00m session:\n\u001b[1;32m---> 59\u001b[0m     \u001b[38;5;28;01mreturn\u001b[39;00m \u001b[43msession\u001b[49m\u001b[38;5;241;43m.\u001b[39;49m\u001b[43mrequest\u001b[49m\u001b[43m(\u001b[49m\u001b[43mmethod\u001b[49m\u001b[38;5;241;43m=\u001b[39;49m\u001b[43mmethod\u001b[49m\u001b[43m,\u001b[49m\u001b[43m \u001b[49m\u001b[43murl\u001b[49m\u001b[38;5;241;43m=\u001b[39;49m\u001b[43murl\u001b[49m\u001b[43m,\u001b[49m\u001b[43m \u001b[49m\u001b[38;5;241;43m*\u001b[39;49m\u001b[38;5;241;43m*\u001b[39;49m\u001b[43mkwargs\u001b[49m\u001b[43m)\u001b[49m\n",
      "File \u001b[1;32m~\\AppData\\Local\\Packages\\PythonSoftwareFoundation.Python.3.11_qbz5n2kfra8p0\\LocalCache\\local-packages\\Python311\\site-packages\\requests\\sessions.py:575\u001b[0m, in \u001b[0;36mSession.request\u001b[1;34m(self, method, url, params, data, headers, cookies, files, auth, timeout, allow_redirects, proxies, hooks, stream, verify, cert, json)\u001b[0m\n\u001b[0;32m    562\u001b[0m \u001b[38;5;66;03m# Create the Request.\u001b[39;00m\n\u001b[0;32m    563\u001b[0m req \u001b[38;5;241m=\u001b[39m Request(\n\u001b[0;32m    564\u001b[0m     method\u001b[38;5;241m=\u001b[39mmethod\u001b[38;5;241m.\u001b[39mupper(),\n\u001b[0;32m    565\u001b[0m     url\u001b[38;5;241m=\u001b[39murl,\n\u001b[1;32m   (...)\u001b[0m\n\u001b[0;32m    573\u001b[0m     hooks\u001b[38;5;241m=\u001b[39mhooks,\n\u001b[0;32m    574\u001b[0m )\n\u001b[1;32m--> 575\u001b[0m prep \u001b[38;5;241m=\u001b[39m \u001b[38;5;28;43mself\u001b[39;49m\u001b[38;5;241;43m.\u001b[39;49m\u001b[43mprepare_request\u001b[49m\u001b[43m(\u001b[49m\u001b[43mreq\u001b[49m\u001b[43m)\u001b[49m\n\u001b[0;32m    577\u001b[0m proxies \u001b[38;5;241m=\u001b[39m proxies \u001b[38;5;129;01mor\u001b[39;00m {}\n\u001b[0;32m    579\u001b[0m settings \u001b[38;5;241m=\u001b[39m \u001b[38;5;28mself\u001b[39m\u001b[38;5;241m.\u001b[39mmerge_environment_settings(\n\u001b[0;32m    580\u001b[0m     prep\u001b[38;5;241m.\u001b[39murl, proxies, stream, verify, cert\n\u001b[0;32m    581\u001b[0m )\n",
      "File \u001b[1;32m~\\AppData\\Local\\Packages\\PythonSoftwareFoundation.Python.3.11_qbz5n2kfra8p0\\LocalCache\\local-packages\\Python311\\site-packages\\requests\\sessions.py:486\u001b[0m, in \u001b[0;36mSession.prepare_request\u001b[1;34m(self, request)\u001b[0m\n\u001b[0;32m    483\u001b[0m     auth \u001b[38;5;241m=\u001b[39m get_netrc_auth(request\u001b[38;5;241m.\u001b[39murl)\n\u001b[0;32m    485\u001b[0m p \u001b[38;5;241m=\u001b[39m PreparedRequest()\n\u001b[1;32m--> 486\u001b[0m \u001b[43mp\u001b[49m\u001b[38;5;241;43m.\u001b[39;49m\u001b[43mprepare\u001b[49m\u001b[43m(\u001b[49m\n\u001b[0;32m    487\u001b[0m \u001b[43m    \u001b[49m\u001b[43mmethod\u001b[49m\u001b[38;5;241;43m=\u001b[39;49m\u001b[43mrequest\u001b[49m\u001b[38;5;241;43m.\u001b[39;49m\u001b[43mmethod\u001b[49m\u001b[38;5;241;43m.\u001b[39;49m\u001b[43mupper\u001b[49m\u001b[43m(\u001b[49m\u001b[43m)\u001b[49m\u001b[43m,\u001b[49m\n\u001b[0;32m    488\u001b[0m \u001b[43m    \u001b[49m\u001b[43murl\u001b[49m\u001b[38;5;241;43m=\u001b[39;49m\u001b[43mrequest\u001b[49m\u001b[38;5;241;43m.\u001b[39;49m\u001b[43murl\u001b[49m\u001b[43m,\u001b[49m\n\u001b[0;32m    489\u001b[0m \u001b[43m    \u001b[49m\u001b[43mfiles\u001b[49m\u001b[38;5;241;43m=\u001b[39;49m\u001b[43mrequest\u001b[49m\u001b[38;5;241;43m.\u001b[39;49m\u001b[43mfiles\u001b[49m\u001b[43m,\u001b[49m\n\u001b[0;32m    490\u001b[0m \u001b[43m    \u001b[49m\u001b[43mdata\u001b[49m\u001b[38;5;241;43m=\u001b[39;49m\u001b[43mrequest\u001b[49m\u001b[38;5;241;43m.\u001b[39;49m\u001b[43mdata\u001b[49m\u001b[43m,\u001b[49m\n\u001b[0;32m    491\u001b[0m \u001b[43m    \u001b[49m\u001b[43mjson\u001b[49m\u001b[38;5;241;43m=\u001b[39;49m\u001b[43mrequest\u001b[49m\u001b[38;5;241;43m.\u001b[39;49m\u001b[43mjson\u001b[49m\u001b[43m,\u001b[49m\n\u001b[0;32m    492\u001b[0m \u001b[43m    \u001b[49m\u001b[43mheaders\u001b[49m\u001b[38;5;241;43m=\u001b[39;49m\u001b[43mmerge_setting\u001b[49m\u001b[43m(\u001b[49m\n\u001b[0;32m    493\u001b[0m \u001b[43m        \u001b[49m\u001b[43mrequest\u001b[49m\u001b[38;5;241;43m.\u001b[39;49m\u001b[43mheaders\u001b[49m\u001b[43m,\u001b[49m\u001b[43m \u001b[49m\u001b[38;5;28;43mself\u001b[39;49m\u001b[38;5;241;43m.\u001b[39;49m\u001b[43mheaders\u001b[49m\u001b[43m,\u001b[49m\u001b[43m \u001b[49m\u001b[43mdict_class\u001b[49m\u001b[38;5;241;43m=\u001b[39;49m\u001b[43mCaseInsensitiveDict\u001b[49m\n\u001b[0;32m    494\u001b[0m \u001b[43m    \u001b[49m\u001b[43m)\u001b[49m\u001b[43m,\u001b[49m\n\u001b[0;32m    495\u001b[0m \u001b[43m    \u001b[49m\u001b[43mparams\u001b[49m\u001b[38;5;241;43m=\u001b[39;49m\u001b[43mmerge_setting\u001b[49m\u001b[43m(\u001b[49m\u001b[43mrequest\u001b[49m\u001b[38;5;241;43m.\u001b[39;49m\u001b[43mparams\u001b[49m\u001b[43m,\u001b[49m\u001b[43m \u001b[49m\u001b[38;5;28;43mself\u001b[39;49m\u001b[38;5;241;43m.\u001b[39;49m\u001b[43mparams\u001b[49m\u001b[43m)\u001b[49m\u001b[43m,\u001b[49m\n\u001b[0;32m    496\u001b[0m \u001b[43m    \u001b[49m\u001b[43mauth\u001b[49m\u001b[38;5;241;43m=\u001b[39;49m\u001b[43mmerge_setting\u001b[49m\u001b[43m(\u001b[49m\u001b[43mauth\u001b[49m\u001b[43m,\u001b[49m\u001b[43m \u001b[49m\u001b[38;5;28;43mself\u001b[39;49m\u001b[38;5;241;43m.\u001b[39;49m\u001b[43mauth\u001b[49m\u001b[43m)\u001b[49m\u001b[43m,\u001b[49m\n\u001b[0;32m    497\u001b[0m \u001b[43m    \u001b[49m\u001b[43mcookies\u001b[49m\u001b[38;5;241;43m=\u001b[39;49m\u001b[43mmerged_cookies\u001b[49m\u001b[43m,\u001b[49m\n\u001b[0;32m    498\u001b[0m \u001b[43m    \u001b[49m\u001b[43mhooks\u001b[49m\u001b[38;5;241;43m=\u001b[39;49m\u001b[43mmerge_hooks\u001b[49m\u001b[43m(\u001b[49m\u001b[43mrequest\u001b[49m\u001b[38;5;241;43m.\u001b[39;49m\u001b[43mhooks\u001b[49m\u001b[43m,\u001b[49m\u001b[43m \u001b[49m\u001b[38;5;28;43mself\u001b[39;49m\u001b[38;5;241;43m.\u001b[39;49m\u001b[43mhooks\u001b[49m\u001b[43m)\u001b[49m\u001b[43m,\u001b[49m\n\u001b[0;32m    499\u001b[0m \u001b[43m\u001b[49m\u001b[43m)\u001b[49m\n\u001b[0;32m    500\u001b[0m \u001b[38;5;28;01mreturn\u001b[39;00m p\n",
      "File \u001b[1;32m~\\AppData\\Local\\Packages\\PythonSoftwareFoundation.Python.3.11_qbz5n2kfra8p0\\LocalCache\\local-packages\\Python311\\site-packages\\requests\\models.py:368\u001b[0m, in \u001b[0;36mPreparedRequest.prepare\u001b[1;34m(self, method, url, headers, files, data, params, auth, cookies, hooks, json)\u001b[0m\n\u001b[0;32m    365\u001b[0m \u001b[38;5;250m\u001b[39m\u001b[38;5;124;03m\"\"\"Prepares the entire request with the given parameters.\"\"\"\u001b[39;00m\n\u001b[0;32m    367\u001b[0m \u001b[38;5;28mself\u001b[39m\u001b[38;5;241m.\u001b[39mprepare_method(method)\n\u001b[1;32m--> 368\u001b[0m \u001b[38;5;28;43mself\u001b[39;49m\u001b[38;5;241;43m.\u001b[39;49m\u001b[43mprepare_url\u001b[49m\u001b[43m(\u001b[49m\u001b[43murl\u001b[49m\u001b[43m,\u001b[49m\u001b[43m \u001b[49m\u001b[43mparams\u001b[49m\u001b[43m)\u001b[49m\n\u001b[0;32m    369\u001b[0m \u001b[38;5;28mself\u001b[39m\u001b[38;5;241m.\u001b[39mprepare_headers(headers)\n\u001b[0;32m    370\u001b[0m \u001b[38;5;28mself\u001b[39m\u001b[38;5;241m.\u001b[39mprepare_cookies(cookies)\n",
      "File \u001b[1;32m~\\AppData\\Local\\Packages\\PythonSoftwareFoundation.Python.3.11_qbz5n2kfra8p0\\LocalCache\\local-packages\\Python311\\site-packages\\requests\\models.py:439\u001b[0m, in \u001b[0;36mPreparedRequest.prepare_url\u001b[1;34m(self, url, params)\u001b[0m\n\u001b[0;32m    436\u001b[0m     \u001b[38;5;28;01mraise\u001b[39;00m InvalidURL(\u001b[38;5;241m*\u001b[39me\u001b[38;5;241m.\u001b[39margs)\n\u001b[0;32m    438\u001b[0m \u001b[38;5;28;01mif\u001b[39;00m \u001b[38;5;129;01mnot\u001b[39;00m scheme:\n\u001b[1;32m--> 439\u001b[0m     \u001b[38;5;28;01mraise\u001b[39;00m MissingSchema(\n\u001b[0;32m    440\u001b[0m         \u001b[38;5;124mf\u001b[39m\u001b[38;5;124m\"\u001b[39m\u001b[38;5;124mInvalid URL \u001b[39m\u001b[38;5;132;01m{\u001b[39;00murl\u001b[38;5;132;01m!r}\u001b[39;00m\u001b[38;5;124m: No scheme supplied. \u001b[39m\u001b[38;5;124m\"\u001b[39m\n\u001b[0;32m    441\u001b[0m         \u001b[38;5;124mf\u001b[39m\u001b[38;5;124m\"\u001b[39m\u001b[38;5;124mPerhaps you meant https://\u001b[39m\u001b[38;5;132;01m{\u001b[39;00murl\u001b[38;5;132;01m}\u001b[39;00m\u001b[38;5;124m?\u001b[39m\u001b[38;5;124m\"\u001b[39m\n\u001b[0;32m    442\u001b[0m     )\n\u001b[0;32m    444\u001b[0m \u001b[38;5;28;01mif\u001b[39;00m \u001b[38;5;129;01mnot\u001b[39;00m host:\n\u001b[0;32m    445\u001b[0m     \u001b[38;5;28;01mraise\u001b[39;00m InvalidURL(\u001b[38;5;124mf\u001b[39m\u001b[38;5;124m\"\u001b[39m\u001b[38;5;124mInvalid URL \u001b[39m\u001b[38;5;132;01m{\u001b[39;00murl\u001b[38;5;132;01m!r}\u001b[39;00m\u001b[38;5;124m: No host supplied\u001b[39m\u001b[38;5;124m\"\u001b[39m)\n",
      "\u001b[1;31mMissingSchema\u001b[0m: Invalid URL '': No scheme supplied. Perhaps you meant https://?"
     ]
    }
   ],
   "source": [
    "def words():\n",
    "    headers = {'User-Agent': 'Mozilla/5.0 (Windows NT 10.0; Win64; x64) AppleWebKit/537.36 (KHTML, like Gecko) Chrome/115.0.0.0 Safari/537.36'}\n",
    "\n",
    "    page = requests.get(\"\", headers=headers)\n",
    "    project = BeautifulSoup(page.content,'html.parser')\n",
    "\n",
    "    #Heading of Article\n",
    "    heading = []\n",
    "    head = project.find_all('h1')\n",
    "    s_head1 = project.find_all('h2')\n",
    "    s_head2 = project.find_all('h3')\n",
    "    s_head3 = project.find_all('h4')\n",
    "    # s_head4 = project.find_all('h5')\n",
    "    # s_head5 = project.find_all('h6')\n",
    "    for h1 in head:\n",
    "        clean_text = re.sub(r'<.*?>', '', str(h1))\n",
    "        heading.append(clean_text)\n",
    "    for h2 in s_head1:\n",
    "        clean_text = re.sub(r'<.*?>', '', str(h2))\n",
    "        heading.append(clean_text)\n",
    "    for h3 in s_head2:\n",
    "        clean_text = re.sub(r'<.*?>', '', str(h3))\n",
    "        heading.append(clean_text)\n",
    "    for h4 in s_head3:\n",
    "        clean_text = re.sub(r'<.*?>', '', str(h4))\n",
    "        heading.append(clean_text)\n",
    "    # for h5 in head:\n",
    "    #     heading.append(h5)\n",
    "    # for h6 in head:\n",
    "    #     heading.append(h6)\n",
    "\n",
    "    #for paragraphs\n",
    "    para = []\n",
    "    paragraph= project.find_all('p')\n",
    "    for p in paragraph:\n",
    "        clean_text = re.sub(r'<.*?>', '', str(p))\n",
    "        para.append(clean_text)\n",
    "\n",
    "\n",
    "    #for links\n",
    "    link_list = []\n",
    "    for links in project.find_all('a'):\n",
    "        href = links.get('href')\n",
    "        # Checking for valid links/href\n",
    "        if href and urlparse(href).scheme:\n",
    "            link_list.append(href)\n",
    "    \n",
    "    word = 0\n",
    "    sent = 0\n",
    "    pos_dict = {}\n",
    "    for w in para:\n",
    "        word_list = word_tokenize(w)\n",
    "        word += len(word_list)\n",
    "        sent += 1\n",
    "        x = nltk.pos_tag(word_list, tagset='universal')\n",
    "        for i in x:\n",
    "            if i[1] not in pos_dict:\n",
    "                pos_dict[i[1]] = 1\n",
    "            else:\n",
    "                pos_dict[i[1]] += 1\n",
    "\n",
    "\n",
    "    with open('dict.json','w'):\n",
    "    #using json.dump() to write the dictionary to file\n",
    "        a = json.dumps(pos_dict)\n",
    "    print(heading)\n",
    "    return word,sent\n",
    "\n",
    "words()"
   ]
  },
  {
   "cell_type": "code",
   "execution_count": null,
   "metadata": {},
   "outputs": [],
   "source": []
  },
  {
   "cell_type": "code",
   "execution_count": null,
   "metadata": {},
   "outputs": [
    {
     "ename": "RuntimeError",
     "evalue": "Working outside of request context.\n\nThis typically means that you attempted to use functionality that needed\nan active HTTP request. Consult the documentation on testing for\ninformation about how to avoid this problem.",
     "output_type": "error",
     "traceback": [
      "\u001b[1;31m---------------------------------------------------------------------------\u001b[0m",
      "\u001b[1;31mRuntimeError\u001b[0m                              Traceback (most recent call last)",
      "Cell \u001b[1;32mIn[32], line 3\u001b[0m\n\u001b[0;32m      1\u001b[0m text_input \u001b[38;5;241m=\u001b[39m \u001b[38;5;124m\"\u001b[39m\u001b[38;5;124mhttps://www.hindustantimes.com/india-news/farmers-protest-live-chalo-delhi-march-punjab-haryana-up-noida-kisan-andolan-today-13-february-2024-101707775882798.html\u001b[39m\u001b[38;5;124m\"\u001b[39m\n\u001b[1;32m----> 3\u001b[0m html \u001b[38;5;241m=\u001b[39m \u001b[43mrequest\u001b[49m\u001b[38;5;241;43m.\u001b[39;49m\u001b[43murlopen\u001b[49m(url)\u001b[38;5;241m.\u001b[39mread()\u001b[38;5;241m.\u001b[39mdecode(\u001b[38;5;124m'\u001b[39m\u001b[38;5;124mutf8\u001b[39m\u001b[38;5;124m'\u001b[39m)\n\u001b[0;32m      5\u001b[0m \u001b[38;5;66;03m#page = requests.get(text_input)\u001b[39;00m\n\u001b[0;32m      6\u001b[0m project \u001b[38;5;241m=\u001b[39m BeautifulSoup(html,\u001b[38;5;124m'\u001b[39m\u001b[38;5;124mhtml.parser\u001b[39m\u001b[38;5;124m'\u001b[39m)\n",
      "File \u001b[1;32m~\\AppData\\Local\\Packages\\PythonSoftwareFoundation.Python.3.11_qbz5n2kfra8p0\\LocalCache\\local-packages\\Python311\\site-packages\\werkzeug\\local.py:311\u001b[0m, in \u001b[0;36m_ProxyLookup.__get__\u001b[1;34m(self, instance, owner)\u001b[0m\n\u001b[0;32m    308\u001b[0m     \u001b[38;5;28;01mreturn\u001b[39;00m \u001b[38;5;28mself\u001b[39m\n\u001b[0;32m    310\u001b[0m \u001b[38;5;28;01mtry\u001b[39;00m:\n\u001b[1;32m--> 311\u001b[0m     obj \u001b[38;5;241m=\u001b[39m \u001b[43minstance\u001b[49m\u001b[38;5;241;43m.\u001b[39;49m\u001b[43m_get_current_object\u001b[49m\u001b[43m(\u001b[49m\u001b[43m)\u001b[49m\n\u001b[0;32m    312\u001b[0m \u001b[38;5;28;01mexcept\u001b[39;00m \u001b[38;5;167;01mRuntimeError\u001b[39;00m:\n\u001b[0;32m    313\u001b[0m     \u001b[38;5;28;01mif\u001b[39;00m \u001b[38;5;28mself\u001b[39m\u001b[38;5;241m.\u001b[39mfallback \u001b[38;5;129;01mis\u001b[39;00m \u001b[38;5;28;01mNone\u001b[39;00m:\n",
      "File \u001b[1;32m~\\AppData\\Local\\Packages\\PythonSoftwareFoundation.Python.3.11_qbz5n2kfra8p0\\LocalCache\\local-packages\\Python311\\site-packages\\werkzeug\\local.py:508\u001b[0m, in \u001b[0;36mLocalProxy.__init__.<locals>._get_current_object\u001b[1;34m()\u001b[0m\n\u001b[0;32m    506\u001b[0m     obj \u001b[38;5;241m=\u001b[39m local\u001b[38;5;241m.\u001b[39mget()\n\u001b[0;32m    507\u001b[0m \u001b[38;5;28;01mexcept\u001b[39;00m \u001b[38;5;167;01mLookupError\u001b[39;00m:\n\u001b[1;32m--> 508\u001b[0m     \u001b[38;5;28;01mraise\u001b[39;00m \u001b[38;5;167;01mRuntimeError\u001b[39;00m(unbound_message) \u001b[38;5;28;01mfrom\u001b[39;00m \u001b[38;5;28;01mNone\u001b[39;00m\n\u001b[0;32m    510\u001b[0m \u001b[38;5;28;01mreturn\u001b[39;00m get_name(obj)\n",
      "\u001b[1;31mRuntimeError\u001b[0m: Working outside of request context.\n\nThis typically means that you attempted to use functionality that needed\nan active HTTP request. Consult the documentation on testing for\ninformation about how to avoid this problem."
     ]
    }
   ],
   "source": [
    "text_input = \"https://www.hindustantimes.com/india-news/farmers-protest-live-chalo-delhi-march-punjab-haryana-up-noida-kisan-andolan-today-13-february-2024-101707775882798.html\"\n",
    "\n",
    "html = request.urlopen(url).read().decode('utf8')\n",
    "\n",
    "#page = requests.get(text_input)\n",
    "project = BeautifulSoup(html,'html.parser')\n",
    "\n",
    "para = []\n",
    "paragraph= [w for w in project.find_all('p')]\n",
    "# for p in paragraph:\n",
    "#     clean_text = re.sub(r'<.*?>', '', str(p))\n",
    "#     para.append(clean_text)\n",
    "\n",
    "para"
   ]
  },
  {
   "cell_type": "code",
   "execution_count": null,
   "metadata": {},
   "outputs": [],
   "source": []
  },
  {
   "cell_type": "code",
   "execution_count": null,
   "metadata": {},
   "outputs": [],
   "source": []
  },
  {
   "cell_type": "markdown",
   "metadata": {},
   "source": [
    "# Data Cleaning\n"
   ]
  },
  {
   "cell_type": "code",
   "execution_count": null,
   "metadata": {},
   "outputs": [],
   "source": [
    "import re"
   ]
  },
  {
   "cell_type": "code",
   "execution_count": null,
   "metadata": {},
   "outputs": [],
   "source": []
  }
 ],
 "metadata": {
  "kernelspec": {
   "display_name": "Python 3",
   "language": "python",
   "name": "python3"
  },
  "language_info": {
   "codemirror_mode": {
    "name": "ipython",
    "version": 3
   },
   "file_extension": ".py",
   "mimetype": "text/x-python",
   "name": "python",
   "nbconvert_exporter": "python",
   "pygments_lexer": "ipython3",
   "version": "3.11.8"
  }
 },
 "nbformat": 4,
 "nbformat_minor": 2
}
